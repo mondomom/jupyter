{
 "cells": [
  {
   "cell_type": "code",
   "execution_count": null,
   "id": "50768048-c11d-4565-9745-a792e31b4b5a",
   "metadata": {
    "jupyter": {
     "source_hidden": true
    },
    "tags": []
   },
   "outputs": [],
   "source": [
    "print(\"Hello, Jupyter\")\n",
    "a = 3 + 4\n",
    "print(a)"
   ]
  },
  {
   "cell_type": "code",
   "execution_count": null,
   "id": "53b24021-c680-4b1a-89e9-200b870029cb",
   "metadata": {
    "jupyter": {
     "source_hidden": true
    },
    "tags": []
   },
   "outputs": [],
   "source": [
    "import pandas as pd\n",
    "import matplotlib.pyplot as plt\n",
    "\n",
    "df = pd.read_csv('data.csv')\n",
    "\n",
    "df.plot()\n",
    "\n",
    "plt.show() "
   ]
  },
  {
   "cell_type": "code",
   "execution_count": null,
   "id": "b8e4da9e-22fc-46c9-bf1b-750ddc422f50",
   "metadata": {
    "jupyter": {
     "source_hidden": true
    },
    "tags": []
   },
   "outputs": [],
   "source": [
    "import pandas as pd\n",
    "\n",
    "df = pd.read_csv('export.csv')\n",
    "\n",
    "print(df.to_string()) "
   ]
  },
  {
   "cell_type": "code",
   "execution_count": null,
   "id": "bac3b8dd-762f-4e21-ad07-df9ed2c7fc4a",
   "metadata": {
    "jupyter": {
     "source_hidden": true
    },
    "tags": []
   },
   "outputs": [],
   "source": [
    "import pandas\n",
    "\n",
    "mydataset = {\n",
    "    'cars': [\"BMW\", \"Volvo\", \"Ford\"],\n",
    "    'passings': [3, 7, 2]\n",
    "}\n",
    "\n",
    "myvar = pandas.DataFrame(mydataset)\n",
    "\n",
    "print(myvar)"
   ]
  },
  {
   "cell_type": "code",
   "execution_count": null,
   "id": "805013d7-9c39-43c9-9908-db154459aefd",
   "metadata": {
    "jupyter": {
     "source_hidden": true
    },
    "tags": []
   },
   "outputs": [],
   "source": [
    "import pandas as pd\n",
    "print(\"Pandas Version: \", pd.__version__)"
   ]
  },
  {
   "cell_type": "code",
   "execution_count": null,
   "id": "f7b1b385-a967-48fb-b9c8-af6acf347b26",
   "metadata": {
    "jupyter": {
     "source_hidden": true
    },
    "tags": []
   },
   "outputs": [],
   "source": [
    "import pandas as pd\n",
    "\n",
    "df = pd.read_csv('export.csv')\n",
    "\n",
    "myseries = pd.Series(df.tavg)\n",
    "print(myseries)"
   ]
  },
  {
   "cell_type": "code",
   "execution_count": null,
   "id": "9d422633-b509-44ea-b28d-5d01d5d87614",
   "metadata": {
    "jupyter": {
     "source_hidden": true
    },
    "tags": []
   },
   "outputs": [],
   "source": [
    "import pandas as pd\n",
    "import matplotlib.pyplot as plt\n",
    "\n",
    "df = pd.read_csv('export.csv')\n",
    "\n",
    "#df.plot(x = 'date', y= 'tavg')\n",
    "df[['date','prcp','snow']].plot()\n",
    "        \n",
    "plt.show()\n",
    "\n",
    "plt.rcParams['figure.figsize'] = [12, 8]\n",
    "\n",
    "df.plot(x = 'date', y = 'pres')\n",
    "\n",
    "plt.show()"
   ]
  },
  {
   "cell_type": "code",
   "execution_count": null,
   "id": "1db82a8a-b2fd-4819-984f-64c47f507924",
   "metadata": {
    "jupyter": {
     "source_hidden": true
    },
    "tags": []
   },
   "outputs": [],
   "source": [
    "import pandas as pd\n",
    "\n",
    "import matplotlib.pyplot as plt\n",
    "\n",
    "df = pd.read_csv('export.csv')\n",
    "\n",
    "df.plot(x = 'date', y = 'snow')\n",
    "        \n",
    "plt.show()\n",
    "\n",
    "df['snow'].fillna(0, inplace = True)\n",
    "\n",
    "df.plot(x = 'date', y = 'snow')\n",
    "        \n",
    "plt.show()\n",
    "\n",
    "print(df.to_string())"
   ]
  },
  {
   "cell_type": "raw",
   "id": "be6fbee2-cfb4-43c9-bf54-cd17ca92d85d",
   "metadata": {
    "tags": []
   },
   "source": [
    " # This is a markdown cell :)"
   ]
  },
  {
   "cell_type": "code",
   "execution_count": null,
   "id": "00a15da4-1354-4a87-8a23-2717737f5e75",
   "metadata": {},
   "outputs": [],
   "source": []
  }
 ],
 "metadata": {
  "kernelspec": {
   "display_name": "Python 3 (ipykernel)",
   "language": "python",
   "name": "python3"
  },
  "language_info": {
   "codemirror_mode": {
    "name": "ipython",
    "version": 3
   },
   "file_extension": ".py",
   "mimetype": "text/x-python",
   "name": "python",
   "nbconvert_exporter": "python",
   "pygments_lexer": "ipython3",
   "version": "3.10.8"
  },
  "toc-showtags": false
 },
 "nbformat": 4,
 "nbformat_minor": 5
}
